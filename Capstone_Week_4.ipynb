{
 "cells": [
  {
   "cell_type": "markdown",
   "metadata": {},
   "source": [
    "# Capstone Project - Best Restaurant in the Area\n",
    "### Applied Data Science Capstone"
   ]
  },
  {
   "cell_type": "markdown",
   "metadata": {},
   "source": [
    "In this project, I will try to find the **best restaurant** in the proximity of UC Davis, San Francisco Campus. This is where the MSBA classes are held, which shares the location with UC Hastings College of the Law. This report will be targeted to prospective/current MSBA students of UC Davis, who might be new to the location and wanting to find good (or platable) food nearby.\n",
    "\n",
    "Although I have not been to the vincinity of Civic Centre, yet I believe there should be a lot of restaurant nearby, considering that it is the center of the city. With so many options, it will be of interests to the students which restaurant is best rated, within the vicinity of the campus.\n",
    "\n",
    "The objective is to make recommendations to the prospective students popular places where they could dine at. I am particularly interested in this project as I will be studying at that campus, assuming everything goes according to plan. I am interested to know what food options are available to me when I grab some food in between classes."
   ]
  },
  {
   "cell_type": "markdown",
   "metadata": {},
   "source": [
    "# Data Description"
   ]
  },
  {
   "cell_type": "markdown",
   "metadata": {},
   "source": [
    "Based on the definition of our problem, we would like to find out if there are any restaurant with the following two criterias:\n",
    "<li> High ratings </li>\n",
    "<li> Within proximity to the UC Hastings College of the Law </li> \n",
    "\n",
    "As how good a restaurant is varied and largely subjective, with many factors in consideration, such as quality and speed of service, quality of food, cleaniness, consistency etc. Due to the subjectivity, a **rating above 8.0** would be seen as high. \n",
    "\n",
    "I would first look at the region that are within **300 metres** to the campus as proximity is an important factor. If no restaurant meets the condition established above, the distance will be increased to **1000 metres**.\n",
    "\n",
    "When the list of restaurants has been populated, I will take a deeper look at the reviews to delve deeper into why they are highly rated.\n",
    "\n",
    "I need to extract the following information:  \n",
    "- The **latitude and longitude** of **UC Hastings College of the Law** will be extracted using geocoding web services offered by **geopy**\n",
    "- The **restaurants data and location** will be extracted using Foursquare API "
   ]
  },
  {
   "cell_type": "code",
   "execution_count": null,
   "metadata": {},
   "outputs": [],
   "source": []
  }
 ],
 "metadata": {
  "kernelspec": {
   "display_name": "Python 3",
   "language": "python",
   "name": "python3"
  },
  "language_info": {
   "codemirror_mode": {
    "name": "ipython",
    "version": 3
   },
   "file_extension": ".py",
   "mimetype": "text/x-python",
   "name": "python",
   "nbconvert_exporter": "python",
   "pygments_lexer": "ipython3",
   "version": "3.7.6"
  }
 },
 "nbformat": 4,
 "nbformat_minor": 4
}
